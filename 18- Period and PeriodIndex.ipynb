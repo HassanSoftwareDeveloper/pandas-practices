{
 "cells": [
  {
   "cell_type": "code",
   "execution_count": 5,
   "metadata": {},
   "outputs": [
    {
     "data": {
      "text/plain": [
       "Period('2024', 'Y-DEC')"
      ]
     },
     "execution_count": 5,
     "metadata": {},
     "output_type": "execute_result"
    }
   ],
   "source": [
    "import pandas as pd\n",
    "y=pd.Period('2024')\n",
    "y"
   ]
  },
  {
   "cell_type": "code",
   "execution_count": 6,
   "metadata": {},
   "outputs": [
    {
     "data": {
      "text/plain": [
       "Timestamp('2024-01-01 00:00:00')"
      ]
     },
     "execution_count": 6,
     "metadata": {},
     "output_type": "execute_result"
    }
   ],
   "source": [
    "y.start_time"
   ]
  },
  {
   "cell_type": "code",
   "execution_count": 7,
   "metadata": {},
   "outputs": [
    {
     "data": {
      "text/plain": [
       "Timestamp('2024-12-31 23:59:59.999999999')"
      ]
     },
     "execution_count": 7,
     "metadata": {},
     "output_type": "execute_result"
    }
   ],
   "source": [
    "y.end_time"
   ]
  },
  {
   "cell_type": "code",
   "execution_count": 11,
   "metadata": {},
   "outputs": [
    {
     "data": {
      "text/plain": [
       "Period('2024-01', 'M')"
      ]
     },
     "execution_count": 11,
     "metadata": {},
     "output_type": "execute_result"
    }
   ],
   "source": [
    "m=pd.Period('2024-1',freq='M')\n",
    "m"
   ]
  },
  {
   "cell_type": "code",
   "execution_count": 12,
   "metadata": {},
   "outputs": [
    {
     "data": {
      "text/plain": [
       "Timestamp('2024-01-01 00:00:00')"
      ]
     },
     "execution_count": 12,
     "metadata": {},
     "output_type": "execute_result"
    }
   ],
   "source": [
    "m.start_time"
   ]
  },
  {
   "cell_type": "code",
   "execution_count": 13,
   "metadata": {},
   "outputs": [
    {
     "data": {
      "text/plain": [
       "Timestamp('2024-01-31 23:59:59.999999999')"
      ]
     },
     "execution_count": 13,
     "metadata": {},
     "output_type": "execute_result"
    }
   ],
   "source": [
    "m.end_time"
   ]
  },
  {
   "cell_type": "code",
   "execution_count": 14,
   "metadata": {},
   "outputs": [
    {
     "data": {
      "text/plain": [
       "Period('2024-02', 'M')"
      ]
     },
     "execution_count": 14,
     "metadata": {},
     "output_type": "execute_result"
    }
   ],
   "source": [
    "m+1"
   ]
  },
  {
   "cell_type": "code",
   "execution_count": 17,
   "metadata": {},
   "outputs": [],
   "source": [
    "d=pd.Period('2024-09-04',freq='D')"
   ]
  },
  {
   "cell_type": "code",
   "execution_count": 18,
   "metadata": {},
   "outputs": [
    {
     "data": {
      "text/plain": [
       "Period('2024-09-04', 'D')"
      ]
     },
     "execution_count": 18,
     "metadata": {},
     "output_type": "execute_result"
    }
   ],
   "source": [
    "d"
   ]
  },
  {
   "cell_type": "code",
   "execution_count": 19,
   "metadata": {},
   "outputs": [
    {
     "data": {
      "text/plain": [
       "Period('2024-09-05', 'D')"
      ]
     },
     "execution_count": 19,
     "metadata": {},
     "output_type": "execute_result"
    }
   ],
   "source": [
    "d+1"
   ]
  },
  {
   "cell_type": "code",
   "execution_count": 20,
   "metadata": {},
   "outputs": [
    {
     "data": {
      "text/plain": [
       "Period('2017Q1', 'Q-DEC')"
      ]
     },
     "execution_count": 20,
     "metadata": {},
     "output_type": "execute_result"
    }
   ],
   "source": [
    "q=pd.Period(\"2017Q1\")\n",
    "q"
   ]
  },
  {
   "cell_type": "code",
   "execution_count": 21,
   "metadata": {},
   "outputs": [
    {
     "data": {
      "text/plain": [
       "Period('2017Q2', 'Q-DEC')"
      ]
     },
     "execution_count": 21,
     "metadata": {},
     "output_type": "execute_result"
    }
   ],
   "source": [
    "q+1"
   ]
  },
  {
   "cell_type": "code",
   "execution_count": 22,
   "metadata": {},
   "outputs": [
    {
     "name": "stderr",
     "output_type": "stream",
     "text": [
      "C:\\Users\\Hassan Ali\\AppData\\Local\\Temp\\ipykernel_3564\\674819383.py:1: FutureWarning: 'Q-jan' is deprecated and will be removed in a future version, please use 'Q-JAN' instead.\n",
      "  q=pd.Period(\"2017Q1\",freq='Q-jan')\n"
     ]
    }
   ],
   "source": [
    "q=pd.Period(\"2017Q1\",freq='Q-jan')"
   ]
  },
  {
   "cell_type": "code",
   "execution_count": 23,
   "metadata": {},
   "outputs": [
    {
     "data": {
      "text/plain": [
       "Period('2017Q1', 'Q-JAN')"
      ]
     },
     "execution_count": 23,
     "metadata": {},
     "output_type": "execute_result"
    }
   ],
   "source": [
    "q"
   ]
  },
  {
   "cell_type": "code",
   "execution_count": 24,
   "metadata": {},
   "outputs": [
    {
     "data": {
      "text/plain": [
       "Timestamp('2016-02-01 00:00:00')"
      ]
     },
     "execution_count": 24,
     "metadata": {},
     "output_type": "execute_result"
    }
   ],
   "source": [
    "q.start_time"
   ]
  },
  {
   "cell_type": "code",
   "execution_count": 26,
   "metadata": {},
   "outputs": [
    {
     "data": {
      "text/plain": [
       "Period('2016-04', 'M')"
      ]
     },
     "execution_count": 26,
     "metadata": {},
     "output_type": "execute_result"
    }
   ],
   "source": [
    "q.asfreq('M',how=\"end\")"
   ]
  },
  {
   "cell_type": "code",
   "execution_count": 27,
   "metadata": {},
   "outputs": [
    {
     "name": "stderr",
     "output_type": "stream",
     "text": [
      "C:\\Users\\Hassan Ali\\AppData\\Local\\Temp\\ipykernel_3564\\2675455411.py:1: FutureWarning: 'Q-jan' is deprecated and will be removed in a future version, please use 'Q-JAN' instead.\n",
      "  q2=pd.Period(\"2017Q2\",freq='Q-jan')\n"
     ]
    },
    {
     "data": {
      "text/plain": [
       "Period('2017Q2', 'Q-JAN')"
      ]
     },
     "execution_count": 27,
     "metadata": {},
     "output_type": "execute_result"
    }
   ],
   "source": [
    "q2=pd.Period(\"2017Q2\",freq='Q-jan')\n",
    "q2"
   ]
  },
  {
   "cell_type": "code",
   "execution_count": 28,
   "metadata": {},
   "outputs": [
    {
     "data": {
      "text/plain": [
       "<QuarterEnd: startingMonth=1>"
      ]
     },
     "execution_count": 28,
     "metadata": {},
     "output_type": "execute_result"
    }
   ],
   "source": [
    "q2-q"
   ]
  },
  {
   "cell_type": "code",
   "execution_count": 29,
   "metadata": {},
   "outputs": [
    {
     "name": "stderr",
     "output_type": "stream",
     "text": [
      "C:\\Users\\Hassan Ali\\AppData\\Local\\Temp\\ipykernel_3564\\1681386541.py:1: FutureWarning: 'Q-jan' is deprecated and will be removed in a future version, please use 'QE-JAN' instead.\n",
      "  idx=pd.date_range('2017','2024',freq='Q-jan')\n"
     ]
    }
   ],
   "source": [
    "idx=pd.date_range('2017','2024',freq='Q-jan')"
   ]
  },
  {
   "cell_type": "code",
   "execution_count": 30,
   "metadata": {},
   "outputs": [
    {
     "data": {
      "text/plain": [
       "DatetimeIndex(['2017-01-31', '2017-04-30', '2017-07-31', '2017-10-31',\n",
       "               '2018-01-31', '2018-04-30', '2018-07-31', '2018-10-31',\n",
       "               '2019-01-31', '2019-04-30', '2019-07-31', '2019-10-31',\n",
       "               '2020-01-31', '2020-04-30', '2020-07-31', '2020-10-31',\n",
       "               '2021-01-31', '2021-04-30', '2021-07-31', '2021-10-31',\n",
       "               '2022-01-31', '2022-04-30', '2022-07-31', '2022-10-31',\n",
       "               '2023-01-31', '2023-04-30', '2023-07-31', '2023-10-31'],\n",
       "              dtype='datetime64[ns]', freq='QE-JAN')"
      ]
     },
     "execution_count": 30,
     "metadata": {},
     "output_type": "execute_result"
    }
   ],
   "source": [
    "idx"
   ]
  },
  {
   "cell_type": "code",
   "execution_count": 32,
   "metadata": {},
   "outputs": [
    {
     "name": "stdout",
     "output_type": "stream",
     "text": [
      "Start time: 2016-11-01 00:00:00\n",
      "End time: 2017-01-31 23:59:59.999999999\n"
     ]
    }
   ],
   "source": [
    "# Convert the first date to a Period object and get the start time\n",
    "period = idx[0].to_period('Q-JAN')\n",
    "print(\"Start time:\", period.start_time)\n",
    "print(\"End time:\", period.end_time)\n"
   ]
  },
  {
   "cell_type": "code",
   "execution_count": 34,
   "metadata": {},
   "outputs": [
    {
     "data": {
      "text/plain": [
       "2017-01-31   -1.833587\n",
       "2017-04-30    1.944737\n",
       "2017-07-31    0.431228\n",
       "2017-10-31    0.359407\n",
       "2018-01-31    0.463074\n",
       "2018-04-30   -1.206999\n",
       "2018-07-31   -0.928591\n",
       "2018-10-31   -0.165786\n",
       "2019-01-31   -0.939924\n",
       "2019-04-30    1.487844\n",
       "2019-07-31    0.598261\n",
       "2019-10-31   -1.889825\n",
       "2020-01-31    1.366811\n",
       "2020-04-30   -0.560559\n",
       "2020-07-31    1.036805\n",
       "2020-10-31    0.165732\n",
       "2021-01-31    0.872734\n",
       "2021-04-30    0.867492\n",
       "2021-07-31   -0.475136\n",
       "2021-10-31   -1.355714\n",
       "2022-01-31   -1.904930\n",
       "2022-04-30   -1.225653\n",
       "2022-07-31   -0.127839\n",
       "2022-10-31   -0.460913\n",
       "2023-01-31   -0.473927\n",
       "2023-04-30   -0.500554\n",
       "2023-07-31    0.801334\n",
       "2023-10-31   -0.028149\n",
       "Freq: QE-JAN, dtype: float64"
      ]
     },
     "execution_count": 34,
     "metadata": {},
     "output_type": "execute_result"
    }
   ],
   "source": [
    "import numpy as np\n",
    "ts=pd.Series(np.random.randn(len(idx)),idx)\n",
    "ts"
   ]
  },
  {
   "cell_type": "code",
   "execution_count": 35,
   "metadata": {},
   "outputs": [
    {
     "data": {
      "text/plain": [
       "DatetimeIndex(['2017-01-31', '2017-04-30', '2017-07-31', '2017-10-31',\n",
       "               '2018-01-31', '2018-04-30', '2018-07-31', '2018-10-31',\n",
       "               '2019-01-31', '2019-04-30', '2019-07-31', '2019-10-31',\n",
       "               '2020-01-31', '2020-04-30', '2020-07-31', '2020-10-31',\n",
       "               '2021-01-31', '2021-04-30', '2021-07-31', '2021-10-31',\n",
       "               '2022-01-31', '2022-04-30', '2022-07-31', '2022-10-31',\n",
       "               '2023-01-31', '2023-04-30', '2023-07-31', '2023-10-31'],\n",
       "              dtype='datetime64[ns]', freq='QE-JAN')"
      ]
     },
     "execution_count": 35,
     "metadata": {},
     "output_type": "execute_result"
    }
   ],
   "source": [
    "ts.index"
   ]
  },
  {
   "cell_type": "code",
   "execution_count": 36,
   "metadata": {},
   "outputs": [
    {
     "data": {
      "text/plain": [
       "2017-01-31   -1.833587\n",
       "2017-04-30    1.944737\n",
       "2017-07-31    0.431228\n",
       "2017-10-31    0.359407\n",
       "2018-01-31    0.463074\n",
       "2018-04-30   -1.206999\n",
       "2018-07-31   -0.928591\n",
       "2018-10-31   -0.165786\n",
       "2019-01-31   -0.939924\n",
       "2019-04-30    1.487844\n",
       "2019-07-31    0.598261\n",
       "2019-10-31   -1.889825\n",
       "2020-01-31    1.366811\n",
       "2020-04-30   -0.560559\n",
       "2020-07-31    1.036805\n",
       "2020-10-31    0.165732\n",
       "Freq: QE-JAN, dtype: float64"
      ]
     },
     "execution_count": 36,
     "metadata": {},
     "output_type": "execute_result"
    }
   ],
   "source": [
    "ts['2017':'2020']"
   ]
  },
  {
   "cell_type": "code",
   "execution_count": 68,
   "metadata": {},
   "outputs": [
    {
     "data": {
      "text/html": [
       "<div>\n",
       "<style scoped>\n",
       "    .dataframe tbody tr th:only-of-type {\n",
       "        vertical-align: middle;\n",
       "    }\n",
       "\n",
       "    .dataframe tbody tr th {\n",
       "        vertical-align: top;\n",
       "    }\n",
       "\n",
       "    .dataframe thead th {\n",
       "        text-align: right;\n",
       "    }\n",
       "</style>\n",
       "<table border=\"1\" class=\"dataframe\">\n",
       "  <thead>\n",
       "    <tr style=\"text-align: right;\">\n",
       "      <th></th>\n",
       "      <th>Line Item</th>\n",
       "      <th>2017Q1</th>\n",
       "      <th>2017Q2</th>\n",
       "      <th>2017Q3</th>\n",
       "      <th>2017Q4</th>\n",
       "      <th>2018Q1</th>\n",
       "    </tr>\n",
       "  </thead>\n",
       "  <tbody>\n",
       "    <tr>\n",
       "      <th>0</th>\n",
       "      <td>Revenue</td>\n",
       "      <td>115904</td>\n",
       "      <td>120854</td>\n",
       "      <td>118179</td>\n",
       "      <td>130936</td>\n",
       "      <td>117542</td>\n",
       "    </tr>\n",
       "    <tr>\n",
       "      <th>1</th>\n",
       "      <td>Expenses</td>\n",
       "      <td>86544</td>\n",
       "      <td>89485</td>\n",
       "      <td>87484</td>\n",
       "      <td>97743</td>\n",
       "      <td>87688</td>\n",
       "    </tr>\n",
       "    <tr>\n",
       "      <th>2</th>\n",
       "      <td>Profit</td>\n",
       "      <td>29360</td>\n",
       "      <td>31369</td>\n",
       "      <td>30695</td>\n",
       "      <td>33193</td>\n",
       "      <td>29854</td>\n",
       "    </tr>\n",
       "  </tbody>\n",
       "</table>\n",
       "</div>"
      ],
      "text/plain": [
       "  Line Item  2017Q1  2017Q2  2017Q3  2017Q4  2018Q1\n",
       "0   Revenue  115904  120854  118179  130936  117542\n",
       "1  Expenses   86544   89485   87484   97743   87688\n",
       "2    Profit   29360   31369   30695   33193   29854"
      ]
     },
     "execution_count": 68,
     "metadata": {},
     "output_type": "execute_result"
    }
   ],
   "source": [
    "df=pd.read_csv(r\"C:\\Users\\Hassan Ali\\OneDrive\\Desktop\\python\\Pandas (practice)\\wmt.csv\")\n",
    "df"
   ]
  },
  {
   "cell_type": "code",
   "execution_count": 69,
   "metadata": {},
   "outputs": [
    {
     "data": {
      "text/html": [
       "<div>\n",
       "<style scoped>\n",
       "    .dataframe tbody tr th:only-of-type {\n",
       "        vertical-align: middle;\n",
       "    }\n",
       "\n",
       "    .dataframe tbody tr th {\n",
       "        vertical-align: top;\n",
       "    }\n",
       "\n",
       "    .dataframe thead th {\n",
       "        text-align: right;\n",
       "    }\n",
       "</style>\n",
       "<table border=\"1\" class=\"dataframe\">\n",
       "  <thead>\n",
       "    <tr style=\"text-align: right;\">\n",
       "      <th></th>\n",
       "      <th>2017Q1</th>\n",
       "      <th>2017Q2</th>\n",
       "      <th>2017Q3</th>\n",
       "      <th>2017Q4</th>\n",
       "      <th>2018Q1</th>\n",
       "    </tr>\n",
       "    <tr>\n",
       "      <th>Line Item</th>\n",
       "      <th></th>\n",
       "      <th></th>\n",
       "      <th></th>\n",
       "      <th></th>\n",
       "      <th></th>\n",
       "    </tr>\n",
       "  </thead>\n",
       "  <tbody>\n",
       "    <tr>\n",
       "      <th>Revenue</th>\n",
       "      <td>115904</td>\n",
       "      <td>120854</td>\n",
       "      <td>118179</td>\n",
       "      <td>130936</td>\n",
       "      <td>117542</td>\n",
       "    </tr>\n",
       "    <tr>\n",
       "      <th>Expenses</th>\n",
       "      <td>86544</td>\n",
       "      <td>89485</td>\n",
       "      <td>87484</td>\n",
       "      <td>97743</td>\n",
       "      <td>87688</td>\n",
       "    </tr>\n",
       "    <tr>\n",
       "      <th>Profit</th>\n",
       "      <td>29360</td>\n",
       "      <td>31369</td>\n",
       "      <td>30695</td>\n",
       "      <td>33193</td>\n",
       "      <td>29854</td>\n",
       "    </tr>\n",
       "  </tbody>\n",
       "</table>\n",
       "</div>"
      ],
      "text/plain": [
       "           2017Q1  2017Q2  2017Q3  2017Q4  2018Q1\n",
       "Line Item                                        \n",
       "Revenue    115904  120854  118179  130936  117542\n",
       "Expenses    86544   89485   87484   97743   87688\n",
       "Profit      29360   31369   30695   33193   29854"
      ]
     },
     "execution_count": 69,
     "metadata": {},
     "output_type": "execute_result"
    }
   ],
   "source": [
    "df.set_index('Line Item',inplace=True)\n",
    "df"
   ]
  },
  {
   "cell_type": "code",
   "execution_count": 70,
   "metadata": {},
   "outputs": [
    {
     "data": {
      "text/html": [
       "<div>\n",
       "<style scoped>\n",
       "    .dataframe tbody tr th:only-of-type {\n",
       "        vertical-align: middle;\n",
       "    }\n",
       "\n",
       "    .dataframe tbody tr th {\n",
       "        vertical-align: top;\n",
       "    }\n",
       "\n",
       "    .dataframe thead th {\n",
       "        text-align: right;\n",
       "    }\n",
       "</style>\n",
       "<table border=\"1\" class=\"dataframe\">\n",
       "  <thead>\n",
       "    <tr style=\"text-align: right;\">\n",
       "      <th>Line Item</th>\n",
       "      <th>Revenue</th>\n",
       "      <th>Expenses</th>\n",
       "      <th>Profit</th>\n",
       "    </tr>\n",
       "  </thead>\n",
       "  <tbody>\n",
       "    <tr>\n",
       "      <th>2017Q1</th>\n",
       "      <td>115904</td>\n",
       "      <td>86544</td>\n",
       "      <td>29360</td>\n",
       "    </tr>\n",
       "    <tr>\n",
       "      <th>2017Q2</th>\n",
       "      <td>120854</td>\n",
       "      <td>89485</td>\n",
       "      <td>31369</td>\n",
       "    </tr>\n",
       "    <tr>\n",
       "      <th>2017Q3</th>\n",
       "      <td>118179</td>\n",
       "      <td>87484</td>\n",
       "      <td>30695</td>\n",
       "    </tr>\n",
       "    <tr>\n",
       "      <th>2017Q4</th>\n",
       "      <td>130936</td>\n",
       "      <td>97743</td>\n",
       "      <td>33193</td>\n",
       "    </tr>\n",
       "    <tr>\n",
       "      <th>2018Q1</th>\n",
       "      <td>117542</td>\n",
       "      <td>87688</td>\n",
       "      <td>29854</td>\n",
       "    </tr>\n",
       "  </tbody>\n",
       "</table>\n",
       "</div>"
      ],
      "text/plain": [
       "Line Item  Revenue  Expenses  Profit\n",
       "2017Q1      115904     86544   29360\n",
       "2017Q2      120854     89485   31369\n",
       "2017Q3      118179     87484   30695\n",
       "2017Q4      130936     97743   33193\n",
       "2018Q1      117542     87688   29854"
      ]
     },
     "execution_count": 70,
     "metadata": {},
     "output_type": "execute_result"
    }
   ],
   "source": [
    "df=df.T\n",
    "df"
   ]
  },
  {
   "cell_type": "code",
   "execution_count": 71,
   "metadata": {},
   "outputs": [
    {
     "name": "stdout",
     "output_type": "stream",
     "text": [
      "Line Item  Revenue  Expenses  Profit\n",
      "2017Q1      115904     86544   29360\n",
      "2017Q2      120854     89485   31369\n",
      "2017Q3      118179     87484   30695\n",
      "2017Q4      130936     97743   33193\n",
      "2018Q1      117542     87688   29854\n"
     ]
    }
   ],
   "source": [
    "print(df)\n"
   ]
  },
  {
   "cell_type": "code",
   "execution_count": 72,
   "metadata": {},
   "outputs": [
    {
     "name": "stderr",
     "output_type": "stream",
     "text": [
      "C:\\Users\\Hassan Ali\\AppData\\Local\\Temp\\ipykernel_3564\\3061397605.py:1: UserWarning: Could not infer format, so each element will be parsed individually, falling back to `dateutil`. To ensure parsing is consistent and as-expected, please specify a format.\n",
      "  df.index = pd.to_datetime(df.index, errors='coerce')\n"
     ]
    }
   ],
   "source": [
    "df.index = pd.to_datetime(df.index, errors='coerce')\n"
   ]
  },
  {
   "cell_type": "code",
   "execution_count": 73,
   "metadata": {},
   "outputs": [
    {
     "name": "stderr",
     "output_type": "stream",
     "text": [
      "C:\\Users\\Hassan Ali\\AppData\\Local\\Temp\\ipykernel_3564\\3402211124.py:1: FutureWarning: 'Q-Jan' is deprecated and will be removed in a future version, please use 'Q-JAN' instead.\n",
      "  df.index = pd.PeriodIndex(df.index, freq='Q-Jan')\n"
     ]
    },
    {
     "data": {
      "text/plain": [
       "PeriodIndex(['2017Q4', '2018Q1', '2018Q2', '2018Q3', '2018Q4'], dtype='period[Q-JAN]')"
      ]
     },
     "execution_count": 73,
     "metadata": {},
     "output_type": "execute_result"
    }
   ],
   "source": [
    "df.index = pd.PeriodIndex(df.index, freq='Q-Jan')\n",
    "df.index"
   ]
  },
  {
   "cell_type": "code",
   "execution_count": 65,
   "metadata": {},
   "outputs": [
    {
     "data": {
      "text/plain": [
       "Timestamp('2016-11-01 00:00:00')"
      ]
     },
     "execution_count": 65,
     "metadata": {},
     "output_type": "execute_result"
    }
   ],
   "source": [
    "df.index[0].start_time"
   ]
  },
  {
   "cell_type": "markdown",
   "metadata": {},
   "source": [
    "add start date column in the datasets"
   ]
  },
  {
   "cell_type": "code",
   "execution_count": 74,
   "metadata": {},
   "outputs": [
    {
     "data": {
      "text/html": [
       "<div>\n",
       "<style scoped>\n",
       "    .dataframe tbody tr th:only-of-type {\n",
       "        vertical-align: middle;\n",
       "    }\n",
       "\n",
       "    .dataframe tbody tr th {\n",
       "        vertical-align: top;\n",
       "    }\n",
       "\n",
       "    .dataframe thead th {\n",
       "        text-align: right;\n",
       "    }\n",
       "</style>\n",
       "<table border=\"1\" class=\"dataframe\">\n",
       "  <thead>\n",
       "    <tr style=\"text-align: right;\">\n",
       "      <th>Line Item</th>\n",
       "      <th>Revenue</th>\n",
       "      <th>Expenses</th>\n",
       "      <th>Profit</th>\n",
       "      <th>Start Date</th>\n",
       "    </tr>\n",
       "  </thead>\n",
       "  <tbody>\n",
       "    <tr>\n",
       "      <th>2017Q4</th>\n",
       "      <td>115904</td>\n",
       "      <td>86544</td>\n",
       "      <td>29360</td>\n",
       "      <td>2016-11-01</td>\n",
       "    </tr>\n",
       "    <tr>\n",
       "      <th>2018Q1</th>\n",
       "      <td>120854</td>\n",
       "      <td>89485</td>\n",
       "      <td>31369</td>\n",
       "      <td>2017-02-01</td>\n",
       "    </tr>\n",
       "    <tr>\n",
       "      <th>2018Q2</th>\n",
       "      <td>118179</td>\n",
       "      <td>87484</td>\n",
       "      <td>30695</td>\n",
       "      <td>2017-05-01</td>\n",
       "    </tr>\n",
       "    <tr>\n",
       "      <th>2018Q3</th>\n",
       "      <td>130936</td>\n",
       "      <td>97743</td>\n",
       "      <td>33193</td>\n",
       "      <td>2017-08-01</td>\n",
       "    </tr>\n",
       "    <tr>\n",
       "      <th>2018Q4</th>\n",
       "      <td>117542</td>\n",
       "      <td>87688</td>\n",
       "      <td>29854</td>\n",
       "      <td>2017-11-01</td>\n",
       "    </tr>\n",
       "  </tbody>\n",
       "</table>\n",
       "</div>"
      ],
      "text/plain": [
       "Line Item  Revenue  Expenses  Profit Start Date\n",
       "2017Q4      115904     86544   29360 2016-11-01\n",
       "2018Q1      120854     89485   31369 2017-02-01\n",
       "2018Q2      118179     87484   30695 2017-05-01\n",
       "2018Q3      130936     97743   33193 2017-08-01\n",
       "2018Q4      117542     87688   29854 2017-11-01"
      ]
     },
     "execution_count": 74,
     "metadata": {},
     "output_type": "execute_result"
    }
   ],
   "source": [
    "df[\"Start Date\"]=df.index.map(lambda x: x.start_time)\n",
    "df"
   ]
  },
  {
   "cell_type": "code",
   "execution_count": 75,
   "metadata": {},
   "outputs": [
    {
     "data": {
      "text/html": [
       "<div>\n",
       "<style scoped>\n",
       "    .dataframe tbody tr th:only-of-type {\n",
       "        vertical-align: middle;\n",
       "    }\n",
       "\n",
       "    .dataframe tbody tr th {\n",
       "        vertical-align: top;\n",
       "    }\n",
       "\n",
       "    .dataframe thead th {\n",
       "        text-align: right;\n",
       "    }\n",
       "</style>\n",
       "<table border=\"1\" class=\"dataframe\">\n",
       "  <thead>\n",
       "    <tr style=\"text-align: right;\">\n",
       "      <th>Line Item</th>\n",
       "      <th>Revenue</th>\n",
       "      <th>Expenses</th>\n",
       "      <th>Profit</th>\n",
       "      <th>Start Date</th>\n",
       "      <th>End Date</th>\n",
       "    </tr>\n",
       "  </thead>\n",
       "  <tbody>\n",
       "    <tr>\n",
       "      <th>2017Q4</th>\n",
       "      <td>115904</td>\n",
       "      <td>86544</td>\n",
       "      <td>29360</td>\n",
       "      <td>2016-11-01</td>\n",
       "      <td>2017-01-31 23:59:59.999999999</td>\n",
       "    </tr>\n",
       "    <tr>\n",
       "      <th>2018Q1</th>\n",
       "      <td>120854</td>\n",
       "      <td>89485</td>\n",
       "      <td>31369</td>\n",
       "      <td>2017-02-01</td>\n",
       "      <td>2017-04-30 23:59:59.999999999</td>\n",
       "    </tr>\n",
       "    <tr>\n",
       "      <th>2018Q2</th>\n",
       "      <td>118179</td>\n",
       "      <td>87484</td>\n",
       "      <td>30695</td>\n",
       "      <td>2017-05-01</td>\n",
       "      <td>2017-07-31 23:59:59.999999999</td>\n",
       "    </tr>\n",
       "    <tr>\n",
       "      <th>2018Q3</th>\n",
       "      <td>130936</td>\n",
       "      <td>97743</td>\n",
       "      <td>33193</td>\n",
       "      <td>2017-08-01</td>\n",
       "      <td>2017-10-31 23:59:59.999999999</td>\n",
       "    </tr>\n",
       "    <tr>\n",
       "      <th>2018Q4</th>\n",
       "      <td>117542</td>\n",
       "      <td>87688</td>\n",
       "      <td>29854</td>\n",
       "      <td>2017-11-01</td>\n",
       "      <td>2018-01-31 23:59:59.999999999</td>\n",
       "    </tr>\n",
       "  </tbody>\n",
       "</table>\n",
       "</div>"
      ],
      "text/plain": [
       "Line Item  Revenue  Expenses  Profit Start Date                      End Date\n",
       "2017Q4      115904     86544   29360 2016-11-01 2017-01-31 23:59:59.999999999\n",
       "2018Q1      120854     89485   31369 2017-02-01 2017-04-30 23:59:59.999999999\n",
       "2018Q2      118179     87484   30695 2017-05-01 2017-07-31 23:59:59.999999999\n",
       "2018Q3      130936     97743   33193 2017-08-01 2017-10-31 23:59:59.999999999\n",
       "2018Q4      117542     87688   29854 2017-11-01 2018-01-31 23:59:59.999999999"
      ]
     },
     "execution_count": 75,
     "metadata": {},
     "output_type": "execute_result"
    }
   ],
   "source": [
    "df[\"End Date\"]=df.index.map(lambda x: x.end_time)\n",
    "df"
   ]
  }
 ],
 "metadata": {
  "kernelspec": {
   "display_name": "Python 3",
   "language": "python",
   "name": "python3"
  },
  "language_info": {
   "codemirror_mode": {
    "name": "ipython",
    "version": 3
   },
   "file_extension": ".py",
   "mimetype": "text/x-python",
   "name": "python",
   "nbconvert_exporter": "python",
   "pygments_lexer": "ipython3",
   "version": "3.12.4"
  }
 },
 "nbformat": 4,
 "nbformat_minor": 2
}

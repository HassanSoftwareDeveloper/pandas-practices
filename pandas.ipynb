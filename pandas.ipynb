{
 "cells": [
  {
   "cell_type": "code",
   "execution_count": null,
   "metadata": {},
   "outputs": [],
   "source": [
    "#pip install pandas\n"
   ]
  },
  {
   "cell_type": "code",
   "execution_count": null,
   "metadata": {},
   "outputs": [],
   "source": [
    "#pip install numpy"
   ]
  },
  {
   "cell_type": "markdown",
   "metadata": {},
   "source": [
    "pandas tutorials"
   ]
  },
  {
   "cell_type": "code",
   "execution_count": null,
   "metadata": {},
   "outputs": [],
   "source": [
    "import pandas as pd\n",
    "import numpy as np\n"
   ]
  },
  {
   "cell_type": "code",
   "execution_count": null,
   "metadata": {},
   "outputs": [],
   "source": [
    "a = pd.Series([1,2,3,4,5,6,7])\n",
    "a"
   ]
  },
  {
   "cell_type": "code",
   "execution_count": null,
   "metadata": {},
   "outputs": [],
   "source": [
    "date = pd.date_range(\"20240707\",periods=9)\n",
    "date"
   ]
  },
  {
   "cell_type": "code",
   "execution_count": 23,
   "metadata": {},
   "outputs": [
    {
     "data": {
      "text/html": [
       "<div>\n",
       "<style scoped>\n",
       "    .dataframe tbody tr th:only-of-type {\n",
       "        vertical-align: middle;\n",
       "    }\n",
       "\n",
       "    .dataframe tbody tr th {\n",
       "        vertical-align: top;\n",
       "    }\n",
       "\n",
       "    .dataframe thead th {\n",
       "        text-align: right;\n",
       "    }\n",
       "</style>\n",
       "<table border=\"1\" class=\"dataframe\">\n",
       "  <thead>\n",
       "    <tr style=\"text-align: right;\">\n",
       "      <th></th>\n",
       "      <th>a</th>\n",
       "      <th>b</th>\n",
       "      <th>c</th>\n",
       "      <th>d</th>\n",
       "    </tr>\n",
       "  </thead>\n",
       "  <tbody>\n",
       "    <tr>\n",
       "      <th>2024-07-07</th>\n",
       "      <td>0.984181</td>\n",
       "      <td>-0.695589</td>\n",
       "      <td>-0.896236</td>\n",
       "      <td>-0.164840</td>\n",
       "    </tr>\n",
       "    <tr>\n",
       "      <th>2024-07-08</th>\n",
       "      <td>1.982750</td>\n",
       "      <td>-0.808146</td>\n",
       "      <td>-0.898163</td>\n",
       "      <td>-1.104149</td>\n",
       "    </tr>\n",
       "    <tr>\n",
       "      <th>2024-07-09</th>\n",
       "      <td>-0.308309</td>\n",
       "      <td>-0.360592</td>\n",
       "      <td>-1.756142</td>\n",
       "      <td>0.662264</td>\n",
       "    </tr>\n",
       "    <tr>\n",
       "      <th>2024-07-10</th>\n",
       "      <td>-1.188349</td>\n",
       "      <td>-0.042093</td>\n",
       "      <td>0.453236</td>\n",
       "      <td>-0.458764</td>\n",
       "    </tr>\n",
       "    <tr>\n",
       "      <th>2024-07-11</th>\n",
       "      <td>0.874467</td>\n",
       "      <td>-0.551962</td>\n",
       "      <td>0.298475</td>\n",
       "      <td>0.675546</td>\n",
       "    </tr>\n",
       "    <tr>\n",
       "      <th>2024-07-12</th>\n",
       "      <td>0.124032</td>\n",
       "      <td>0.156015</td>\n",
       "      <td>0.287028</td>\n",
       "      <td>-1.302489</td>\n",
       "    </tr>\n",
       "    <tr>\n",
       "      <th>2024-07-13</th>\n",
       "      <td>1.073315</td>\n",
       "      <td>-0.358408</td>\n",
       "      <td>1.238984</td>\n",
       "      <td>-0.226366</td>\n",
       "    </tr>\n",
       "    <tr>\n",
       "      <th>2024-07-14</th>\n",
       "      <td>0.290351</td>\n",
       "      <td>-0.346617</td>\n",
       "      <td>-0.775900</td>\n",
       "      <td>-0.068415</td>\n",
       "    </tr>\n",
       "    <tr>\n",
       "      <th>2024-07-15</th>\n",
       "      <td>1.131151</td>\n",
       "      <td>-1.518674</td>\n",
       "      <td>0.482927</td>\n",
       "      <td>0.108590</td>\n",
       "    </tr>\n",
       "  </tbody>\n",
       "</table>\n",
       "</div>"
      ],
      "text/plain": [
       "                   a         b         c         d\n",
       "2024-07-07  0.984181 -0.695589 -0.896236 -0.164840\n",
       "2024-07-08  1.982750 -0.808146 -0.898163 -1.104149\n",
       "2024-07-09 -0.308309 -0.360592 -1.756142  0.662264\n",
       "2024-07-10 -1.188349 -0.042093  0.453236 -0.458764\n",
       "2024-07-11  0.874467 -0.551962  0.298475  0.675546\n",
       "2024-07-12  0.124032  0.156015  0.287028 -1.302489\n",
       "2024-07-13  1.073315 -0.358408  1.238984 -0.226366\n",
       "2024-07-14  0.290351 -0.346617 -0.775900 -0.068415\n",
       "2024-07-15  1.131151 -1.518674  0.482927  0.108590"
      ]
     },
     "execution_count": 23,
     "metadata": {},
     "output_type": "execute_result"
    }
   ],
   "source": [
    "df = pd.DataFrame(np.random .randn(9,4),index=date,columns=list(\"abcd\"))\n",
    "df"
   ]
  },
  {
   "cell_type": "code",
   "execution_count": null,
   "metadata": {},
   "outputs": [],
   "source": []
  }
 ],
 "metadata": {
  "kernelspec": {
   "display_name": "Python 3",
   "language": "python",
   "name": "python3"
  },
  "language_info": {
   "codemirror_mode": {
    "name": "ipython",
    "version": 3
   },
   "file_extension": ".py",
   "mimetype": "text/x-python",
   "name": "python",
   "nbconvert_exporter": "python",
   "pygments_lexer": "ipython3",
   "version": "3.12.4"
  }
 },
 "nbformat": 4,
 "nbformat_minor": 2
}
